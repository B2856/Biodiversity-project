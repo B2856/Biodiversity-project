{
 "cells": [
  {
   "cell_type": "markdown",
   "metadata": {},
   "source": [
    "# Introduction\n",
    "\n",
    "This is the Biodiversity Portfolio Project from Codecademy's Data Science Course. The project aims to explore a dataset and answer the following questions:\n",
    "\n",
    "1) What is the distribution of conservation status for species in the parks?\n",
    "2) Are certain types of species more likely to be in a protected species category?\n",
    "3) Are there significant differences between species and their conservation status?\n",
    "4) What are the most commonly observed mammals in each park?\n",
    "\n",
    "Data sources:\n",
    "The project uses two data sources: 'Observations.csv' and 'Species_info.csv', both provided by Codecademy.com (https://www.codecademy.com)."
   ]
  },
  {
   "cell_type": "markdown",
   "metadata": {},
   "source": [
    "Scope the Data"
   ]
  },
  {
   "cell_type": "code",
   "execution_count": 1,
   "metadata": {},
   "outputs": [],
   "source": [
    "# Load the data\n",
    "import pandas as pd\n",
    "\n",
    "observations = pd.read_csv(\"observations.csv\")\n",
    "species = pd.read_csv(\"species_info.csv\")"
   ]
  },
  {
   "cell_type": "code",
   "execution_count": 2,
   "metadata": {},
   "outputs": [
    {
     "name": "stdout",
     "output_type": "stream",
     "text": [
      "<class 'pandas.core.frame.DataFrame'>\n",
      "RangeIndex: 23296 entries, 0 to 23295\n",
      "Data columns (total 3 columns):\n",
      " #   Column           Non-Null Count  Dtype \n",
      "---  ------           --------------  ----- \n",
      " 0   scientific_name  23296 non-null  object\n",
      " 1   park_name        23296 non-null  object\n",
      " 2   observations     23296 non-null  int64 \n",
      "dtypes: int64(1), object(2)\n",
      "memory usage: 546.1+ KB\n",
      "None\n"
     ]
    },
    {
     "data": {
      "text/html": [
       "<div>\n",
       "<style scoped>\n",
       "    .dataframe tbody tr th:only-of-type {\n",
       "        vertical-align: middle;\n",
       "    }\n",
       "\n",
       "    .dataframe tbody tr th {\n",
       "        vertical-align: top;\n",
       "    }\n",
       "\n",
       "    .dataframe thead th {\n",
       "        text-align: right;\n",
       "    }\n",
       "</style>\n",
       "<table border=\"1\" class=\"dataframe\">\n",
       "  <thead>\n",
       "    <tr style=\"text-align: right;\">\n",
       "      <th></th>\n",
       "      <th>scientific_name</th>\n",
       "      <th>park_name</th>\n",
       "      <th>observations</th>\n",
       "    </tr>\n",
       "  </thead>\n",
       "  <tbody>\n",
       "    <tr>\n",
       "      <th>0</th>\n",
       "      <td>Vicia benghalensis</td>\n",
       "      <td>Great Smoky Mountains National Park</td>\n",
       "      <td>68</td>\n",
       "    </tr>\n",
       "    <tr>\n",
       "      <th>1</th>\n",
       "      <td>Neovison vison</td>\n",
       "      <td>Great Smoky Mountains National Park</td>\n",
       "      <td>77</td>\n",
       "    </tr>\n",
       "    <tr>\n",
       "      <th>2</th>\n",
       "      <td>Prunus subcordata</td>\n",
       "      <td>Yosemite National Park</td>\n",
       "      <td>138</td>\n",
       "    </tr>\n",
       "    <tr>\n",
       "      <th>3</th>\n",
       "      <td>Abutilon theophrasti</td>\n",
       "      <td>Bryce National Park</td>\n",
       "      <td>84</td>\n",
       "    </tr>\n",
       "    <tr>\n",
       "      <th>4</th>\n",
       "      <td>Githopsis specularioides</td>\n",
       "      <td>Great Smoky Mountains National Park</td>\n",
       "      <td>85</td>\n",
       "    </tr>\n",
       "  </tbody>\n",
       "</table>\n",
       "</div>"
      ],
      "text/plain": [
       "            scientific_name                            park_name  observations\n",
       "0        Vicia benghalensis  Great Smoky Mountains National Park            68\n",
       "1            Neovison vison  Great Smoky Mountains National Park            77\n",
       "2         Prunus subcordata               Yosemite National Park           138\n",
       "3      Abutilon theophrasti                  Bryce National Park            84\n",
       "4  Githopsis specularioides  Great Smoky Mountains National Park            85"
      ]
     },
     "execution_count": 2,
     "metadata": {},
     "output_type": "execute_result"
    }
   ],
   "source": [
    "# Examine the observations data\n",
    "print(observations.info())\n",
    "observations.head()"
   ]
  },
  {
   "cell_type": "code",
   "execution_count": 3,
   "metadata": {},
   "outputs": [
    {
     "name": "stdout",
     "output_type": "stream",
     "text": [
      "<class 'pandas.core.frame.DataFrame'>\n",
      "RangeIndex: 5824 entries, 0 to 5823\n",
      "Data columns (total 4 columns):\n",
      " #   Column               Non-Null Count  Dtype \n",
      "---  ------               --------------  ----- \n",
      " 0   category             5824 non-null   object\n",
      " 1   scientific_name      5824 non-null   object\n",
      " 2   common_names         5824 non-null   object\n",
      " 3   conservation_status  191 non-null    object\n",
      "dtypes: object(4)\n",
      "memory usage: 182.1+ KB\n",
      "None\n"
     ]
    },
    {
     "data": {
      "text/html": [
       "<div>\n",
       "<style scoped>\n",
       "    .dataframe tbody tr th:only-of-type {\n",
       "        vertical-align: middle;\n",
       "    }\n",
       "\n",
       "    .dataframe tbody tr th {\n",
       "        vertical-align: top;\n",
       "    }\n",
       "\n",
       "    .dataframe thead th {\n",
       "        text-align: right;\n",
       "    }\n",
       "</style>\n",
       "<table border=\"1\" class=\"dataframe\">\n",
       "  <thead>\n",
       "    <tr style=\"text-align: right;\">\n",
       "      <th></th>\n",
       "      <th>category</th>\n",
       "      <th>scientific_name</th>\n",
       "      <th>common_names</th>\n",
       "      <th>conservation_status</th>\n",
       "    </tr>\n",
       "  </thead>\n",
       "  <tbody>\n",
       "    <tr>\n",
       "      <th>0</th>\n",
       "      <td>Mammal</td>\n",
       "      <td>Clethrionomys gapperi gapperi</td>\n",
       "      <td>Gapper's Red-Backed Vole</td>\n",
       "      <td>NaN</td>\n",
       "    </tr>\n",
       "    <tr>\n",
       "      <th>1</th>\n",
       "      <td>Mammal</td>\n",
       "      <td>Bos bison</td>\n",
       "      <td>American Bison, Bison</td>\n",
       "      <td>NaN</td>\n",
       "    </tr>\n",
       "    <tr>\n",
       "      <th>2</th>\n",
       "      <td>Mammal</td>\n",
       "      <td>Bos taurus</td>\n",
       "      <td>Aurochs, Aurochs, Domestic Cattle (Feral), Dom...</td>\n",
       "      <td>NaN</td>\n",
       "    </tr>\n",
       "    <tr>\n",
       "      <th>3</th>\n",
       "      <td>Mammal</td>\n",
       "      <td>Ovis aries</td>\n",
       "      <td>Domestic Sheep, Mouflon, Red Sheep, Sheep (Feral)</td>\n",
       "      <td>NaN</td>\n",
       "    </tr>\n",
       "    <tr>\n",
       "      <th>4</th>\n",
       "      <td>Mammal</td>\n",
       "      <td>Cervus elaphus</td>\n",
       "      <td>Wapiti Or Elk</td>\n",
       "      <td>NaN</td>\n",
       "    </tr>\n",
       "  </tbody>\n",
       "</table>\n",
       "</div>"
      ],
      "text/plain": [
       "  category                scientific_name  \\\n",
       "0   Mammal  Clethrionomys gapperi gapperi   \n",
       "1   Mammal                      Bos bison   \n",
       "2   Mammal                     Bos taurus   \n",
       "3   Mammal                     Ovis aries   \n",
       "4   Mammal                 Cervus elaphus   \n",
       "\n",
       "                                        common_names conservation_status  \n",
       "0                           Gapper's Red-Backed Vole                 NaN  \n",
       "1                              American Bison, Bison                 NaN  \n",
       "2  Aurochs, Aurochs, Domestic Cattle (Feral), Dom...                 NaN  \n",
       "3  Domestic Sheep, Mouflon, Red Sheep, Sheep (Feral)                 NaN  \n",
       "4                                      Wapiti Or Elk                 NaN  "
      ]
     },
     "execution_count": 3,
     "metadata": {},
     "output_type": "execute_result"
    }
   ],
   "source": [
    "# Examine the species info data\n",
    "print(species.info())\n",
    "species.head()"
   ]
  },
  {
   "cell_type": "markdown",
   "metadata": {},
   "source": [
    "Takeaways from initial data exploration:\n",
    "1) The column 'conservation_status' in the 'species' file has many null values\n",
    "2) The two dataframes share a common column, \"scientific_name\""
   ]
  },
  {
   "cell_type": "markdown",
   "metadata": {},
   "source": [
    "Explore the Data Further"
   ]
  },
  {
   "cell_type": "code",
   "execution_count": 4,
   "metadata": {},
   "outputs": [
    {
     "name": "stdout",
     "output_type": "stream",
     "text": [
      "# of unique species observed: 5541\n",
      "# of parks included in this dataset: 4 ['Great Smoky Mountains National Park' 'Yosemite National Park'\n",
      " 'Bryce National Park' 'Yellowstone National Park']\n",
      "# of unique species in these parks: 7 ['Mammal' 'Bird' 'Reptile' 'Amphibian' 'Fish' 'Vascular Plant'\n",
      " 'Nonvascular Plant']\n",
      "# of unique conservation statuses: 5 [nan 'Species of Concern' 'Endangered' 'Threatened' 'In Recovery']\n"
     ]
    }
   ],
   "source": [
    "print(\"# of unique species observed:\", observations.scientific_name.nunique())\n",
    "print(\"# of parks included in this dataset:\", observations.park_name.nunique(), observations.park_name.unique())\n",
    "\n",
    "print(\"# of unique species in these parks:\", species.category.nunique(), species.category.unique())\n",
    "print(\"# of unique conservation statuses:\", species.conservation_status.nunique(dropna = False), species.conservation_status.unique())"
   ]
  },
  {
   "cell_type": "code",
   "execution_count": 5,
   "metadata": {},
   "outputs": [],
   "source": [
    "# Replace the 'nan' consservation status with \"No Intervention\"\n",
    "species.conservation_status.fillna(\"No Intervention\", inplace = True)"
   ]
  },
  {
   "cell_type": "markdown",
   "metadata": {},
   "source": [
    "Analysis\n",
    "\n",
    "Q1) What is the distribution of species by conservation status?"
   ]
  },
  {
   "cell_type": "code",
   "execution_count": 6,
   "metadata": {},
   "outputs": [
    {
     "data": {
      "image/png": "[encoded data removed]",
      "text/plain": [
       "<Figure size 720x432 with 1 Axes>"
      ]
     },
     "metadata": {
      "needs_background": "light"
     },
     "output_type": "display_data"
    }
   ],
   "source": [
    "import matplotlib.pyplot as plt\n",
    "import seaborn as sns\n",
    "\n",
    "# Plot the distribution of species by conservation status (excluding 'No Intervention\")\n",
    "plt.figure(figsize=(10,6))\n",
    "ax = sns.countplot(data = species[species.conservation_status != \"No Intervention\"], x='conservation_status', hue='category', palette='Set1')\n",
    "plt.xlabel(\"Conservation Status\")\n",
    "plt.ylabel(\"Count\")\n",
    "plt.title(\"Distribution of Conservation Status\")\n",
    "plt.legend(loc = 'upper right')\n",
    "\n",
    "# Add counts above each bar\n",
    "for p in ax.patches:\n",
    "    ax.annotate(format(p.get_height(), '.0f'), \n",
    "                (p.get_x() + p.get_width() / 2., p.get_height()), \n",
    "                ha = 'center', va = 'center', \n",
    "                xytext = (0, 9), \n",
    "                textcoords = 'offset points')\n",
    "\n",
    "\n",
    "plt.xlabel(\"Conservation Status\")\n",
    "plt.title(\"Conservation Status by Category\")\n",
    "plt.show()"
   ]
  },
  {
   "cell_type": "markdown",
   "metadata": {},
   "source": [
    "Q2) Are certain species more likely to be in a protected conservaton category?\n",
    "\n",
    "The results below show 17% of mammals and 15.4% of Birds have a protected conservation status."
   ]
  },
  {
   "cell_type": "code",
   "execution_count": 7,
   "metadata": {},
   "outputs": [
    {
     "name": "stdout",
     "output_type": "stream",
     "text": [
      "            Category  Not Protected  Protected  % Protected\n",
      "0          Amphibian             72          7          8.9\n",
      "1               Bird            413         75         15.4\n",
      "2               Fish            115         11          8.7\n",
      "3             Mammal            146         30         17.0\n",
      "4  Nonvascular Plant            328          5          1.5\n",
      "5            Reptile             73          5          6.4\n",
      "6     Vascular Plant           4216         46          1.1\n",
      "            Category  % Protected\n",
      "0          Amphibian          8.9\n",
      "1               Bird         15.4\n",
      "2               Fish          8.7\n",
      "3             Mammal         17.0\n",
      "4  Nonvascular Plant          1.5\n",
      "5            Reptile          6.4\n",
      "6     Vascular Plant          1.1\n"
     ]
    }
   ],
   "source": [
    "# Create a new column labelled 'protected'\n",
    "species['protected'] = species.conservation_status != \"No Intervention\"\n",
    "\n",
    "# Create pivot table to show how many species in each category are protected and not protected\n",
    "protected_counts = species.groupby(['category', 'protected']).scientific_name.nunique().reset_index()\n",
    "protected_pivot = protected_counts.pivot(index='category', columns='protected', values='scientific_name').reset_index()\n",
    "protected_pivot.columns = ['Category', 'Not Protected', 'Protected']\n",
    "protected_pivot['% Protected'] = round(100*protected_pivot.Protected/(protected_pivot.Protected + protected_pivot[\"Not Protected\"]),1)\n",
    "print(protected_pivot)\n",
    "\n",
    "# Print out the table with category and % protected\n",
    "print(protected_pivot[['Category', '% Protected']])\n"
   ]
  },
  {
   "cell_type": "markdown",
   "metadata": {},
   "source": [
    "Q3) Are the differences between species and their conservation status significant?\n",
    "\n",
    "We will use two chi-squared tests to determine if these two categories have significantly different protected ratio than the other species.\n",
    "\n",
    "First Test:\n",
    "* Null hypothesis: There is no significant difference in the % of Mammals that are protected vs other categories.\n",
    "\n",
    "* Alternative hypothesis: There is a significant difference between the % of Mammals that are protected vs other categories.\n",
    "(Chosen p-value is 0.05)\n",
    "\n",
    "Results: pval (5.77e-25) is significantly less than 0.05. Mammals are statistically more likely to be protected than other species"
   ]
  },
  {
   "cell_type": "code",
   "execution_count": 8,
   "metadata": {},
   "outputs": [
    {
     "name": "stdout",
     "output_type": "stream",
     "text": [
      "   Protected  Not Protected\n",
      "0          7             72\n",
      "1         75            413\n",
      "2         11            115\n",
      "3         30            146\n",
      "4          5            328\n",
      "5          5             73\n",
      "6         46           4216\n",
      "Chi-squared statistic for Mammals vs Other Categories: 106.48575412002755\n",
      "p-value for Mammals vs Others: 5.770583896030514e-25\n"
     ]
    }
   ],
   "source": [
    "from scipy.stats import chi2_contingency\n",
    "\n",
    "# Create a contingency table of category vs protected\n",
    "cont_table = protected_pivot[[\"Protected\", \"Not Protected\"]]\n",
    "print(cont_table)\n",
    "\n",
    "# Perform the chi-squared test for Mammals and other categories\n",
    "mammals_cont_table = cont_table.loc[protected_pivot[\"Category\"] == \"Mammal\"]\n",
    "other_cont_table = cont_table.loc[protected_pivot[\"Category\"] != \"Mammal\"]\n",
    "\n",
    "chi2_mammals, pval_mammals, dof_mammals, expected_mammals = chi2_contingency([mammals_cont_table.sum(), other_cont_table.sum()])\n",
    "\n",
    "print(\"Chi-squared statistic for Mammals vs Other Categories:\", chi2_mammals)\n",
    "print(\"p-value for Mammals vs Others:\", pval_mammals)\n"
   ]
  },
  {
   "cell_type": "markdown",
   "metadata": {},
   "source": [
    "Second Test:\n",
    "* Null hypothesis: There is no significant difference in the % of Birds that are protected than other categories.\n",
    "\n",
    "* Alternative hypothesis: There is a significant difference between the % of Birs that are protected vs other categories.\n",
    "(Chosen p-value is 0.05)\n",
    "\n",
    "Results: pval (6.94e-56) is significantly less than 0.05. Birds are significantly more likely to be protected than other species"
   ]
  },
  {
   "cell_type": "code",
   "execution_count": 9,
   "metadata": {},
   "outputs": [
    {
     "name": "stdout",
     "output_type": "stream",
     "text": [
      "Chi-squared statistic for Birds vs Other Categories: 248.04168080289367\n",
      "p-value for Birds vs Others: 6.940288342727028e-56\n"
     ]
    }
   ],
   "source": [
    "# Perform the chi-squared test for Birds and other categories\n",
    "birds_cont_table = cont_table.loc[protected_pivot[\"Category\"] == \"Bird\"]\n",
    "other_cont_table = cont_table.loc[protected_pivot[\"Category\"] != \"Bird\"]\n",
    "chi2_birds, pval_birds, dof_birds, expected_birds = chi2_contingency([birds_cont_table.sum(), other_cont_table.sum()])\n",
    "print(\"Chi-squared statistic for Birds vs Other Categories:\", chi2_birds)\n",
    "print(\"p-value for Birds vs Others:\", pval_birds)\n"
   ]
  },
  {
   "cell_type": "markdown",
   "metadata": {},
   "source": [
    "Next we explore observations of each species category by park:\n",
    "From the plot below, Vascular Plants are the most commonly observed category for each park, followed by Birds.\n",
    "Yellowstone had the most observations across each category.\n"
   ]
  },
  {
   "cell_type": "code",
   "execution_count": 10,
   "metadata": {},
   "outputs": [
    {
     "data": {
      "image/png": "[encoded data removed]",
      "text/plain": [
       "<Figure size 720x432 with 1 Axes>"
      ]
     },
     "metadata": {
      "needs_background": "light"
     },
     "output_type": "display_data"
    },
    {
     "data": {
      "text/plain": [
       "<Figure size 432x288 with 0 Axes>"
      ]
     },
     "metadata": {},
     "output_type": "display_data"
    }
   ],
   "source": [
    "# Merge the two dataframes based on the scientific_name\n",
    "merged_df = observations.merge(species, on='scientific_name')\n",
    "merged_df['park_name'] = merged_df.park_name.str.replace('National Park', '')\n",
    "\n",
    "# Group the data by park name and category, and sum the observations\n",
    "grouped_df = merged_df.groupby(['park_name', 'category'])['observations'].sum().reset_index()\n",
    "\n",
    "# Create a side by side barplot with seaborn\n",
    "plt.figure(figsize = (10,6))\n",
    "ax = sns.barplot(x='park_name',y = 'observations', hue='category', dodge = True, data=grouped_df)\n",
    "\n",
    "# Set the title and axis labels\n",
    "plt.title('Observations by Park')\n",
    "plt.xlabel('Park name')\n",
    "plt.ylabel('Observations')\n",
    "plt.yscale('log')\n",
    "\n",
    "# Format y-axis tick labels with commas\n",
    "import matplotlib.ticker as ticker\n",
    "ax.yaxis.set_major_formatter(ticker.StrMethodFormatter('{x:,.0f}'))\n",
    "\n",
    "# Show the plot\n",
    "plt.show()\n",
    "plt.clf()"
   ]
  },
  {
   "cell_type": "markdown",
   "metadata": {},
   "source": [
    "Q4) What are the most commonly observed mammals in each park?"
   ]
  },
  {
   "cell_type": "code",
   "execution_count": 12,
   "metadata": {},
   "outputs": [
    {
     "name": "stdout",
     "output_type": "stream",
     "text": [
      "Bryce \n",
      "     scientific_name                           common_names  observations\n",
      "0      Puma concolor            Mountain Lion, Cougar, Puma           933\n",
      "3   Myotis lucifugus  Little Brown Bat, Little Brown Myotis           894\n",
      "6  Castor canadensis                American Beaver, Beaver           834\n",
      "\n",
      "Great Smoky Mountains \n",
      "      scientific_name                               common_names  observations\n",
      "9       Procyon lotor  Common Raccoon, Raccoon, Northern Raccoon           741\n",
      "12  Castor canadensis                    American Beaver, Beaver           729\n",
      "15      Puma concolor                Mountain Lion, Cougar, Puma           717\n",
      "\n",
      "Yellowstone \n",
      "      scientific_name                               common_names  observations\n",
      "18      Puma concolor                Mountain Lion, Cougar, Puma          2259\n",
      "21      Procyon lotor  Common Raccoon, Raccoon, Northern Raccoon          2235\n",
      "24  Castor canadensis                    American Beaver, Beaver          2109\n",
      "\n",
      "Yosemite \n",
      "      scientific_name                               common_names  observations\n",
      "27  Castor canadensis                    American Beaver, Beaver          1503\n",
      "30      Procyon lotor  Common Raccoon, Raccoon, Northern Raccoon          1359\n",
      "33      Puma concolor                Mountain Lion, Cougar, Puma          1224\n",
      "\n"
     ]
    }
   ],
   "source": [
    "# Filter the data to include only mammal species\n",
    "mammals_df = merged_df[merged_df.category == 'Mammal'].drop(columns=['conservation_status', 'protected', 'category'])\n",
    "\n",
    "# Group by park_name and scientific_name, calculate sum of observations\n",
    "grouped_df = mammals_df.groupby(['park_name', 'scientific_name']).observations.sum().reset_index()\n",
    "\n",
    "# Sort by park_name and summed observations in descending order\n",
    "sorted_df = grouped_df.sort_values(['park_name', 'observations'], ascending=[True, False])\n",
    "\n",
    "# Get the top 3 observed mammals for each park\n",
    "top_3_mammals = sorted_df.groupby('park_name').head(3)\n",
    "\n",
    "# Merge with species dataframe to include common_names\n",
    "merged_top_3 = top_3_mammals.merge(species[['scientific_name', 'common_names']], on='scientific_name', how='left')\n",
    "\n",
    "# Combine multiple common names into a single value by retrieving the unique names and combining them with a comma\n",
    "combined_common_names = merged_top_3.groupby('scientific_name')['common_names'].apply(lambda x: ', '.join(x.dropna().unique()))\n",
    "\n",
    "# Update the common_names column in the merged dataframe\n",
    "merged_top_3['common_names'] = merged_top_3['scientific_name'].map(combined_common_names)\n",
    "\n",
    "import re\n",
    "\n",
    "# Remove duplicates in common_names column\n",
    "def remove_duplicates(common_names):\n",
    "    names = []\n",
    "    for name in common_names.split(', '):\n",
    "        if '(' in name:\n",
    "            match = re.search(r'\\((.*?)\\)', name)\n",
    "            if match:\n",
    "                extracted_name = match.group(1)\n",
    "                if extracted_name not in names:\n",
    "                    names.append(extracted_name)\n",
    "        else:\n",
    "            if name not in names:\n",
    "                names.append(name)\n",
    "    return ', '.join(names)\n",
    "\n",
    "merged_top_3['common_names'] = merged_top_3['common_names'].apply(remove_duplicates)\n",
    "\n",
    "# Remove duplicates\n",
    "merged_top_3 = merged_top_3.drop_duplicates(subset=['park_name', 'scientific_name'])\n",
    "\n",
    "# Print the results\n",
    "for park_name, group in merged_top_3.groupby('park_name'):\n",
    "    print(park_name)\n",
    "    print(group[['scientific_name', 'common_names', 'observations']])\n",
    "    print()\n"
   ]
  }
 ],
 "metadata": {
  "interpreter": {
   "hash": "29c0893d0e53df73bac12bba1fcbb9bc7ff5ea9e7cf50db802d304f5ae505f56"
  },
  "kernelspec": {
   "display_name": "Python 3.9.7 64-bit ('base': conda)",
   "language": "python",
   "name": "python3"
  },
  "language_info": {
   "codemirror_mode": {
    "name": "ipython",
    "version": 3
   },
   "file_extension": ".py",
   "mimetype": "text/x-python",
   "name": "python",
   "nbconvert_exporter": "python",
   "pygments_lexer": "ipython3",
   "version": "3.9.7"
  },
  "orig_nbformat": 4
 },
 "nbformat": 4,
 "nbformat_minor": 2
}
